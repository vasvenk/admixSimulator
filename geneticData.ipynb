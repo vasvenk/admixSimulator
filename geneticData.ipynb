{
 "cells": [
  {
   "cell_type": "code",
   "execution_count": 12,
   "metadata": {
    "collapsed": true
   },
   "outputs": [],
   "source": [
    "import numpy as np\n",
    "import random\n",
    "from math import exp"
   ]
  },
  {
   "cell_type": "code",
   "execution_count": 2,
   "metadata": {
    "collapsed": false
   },
   "outputs": [],
   "source": [
    "def readData(indFile, genoFile, snpFile):\n",
    "    \"\"\"\n",
    "    Function for creating the relevant data types\n",
    "    \"\"\"\n",
    "    snpData, snpDataCols = open(snpFile).read().split(), []\n",
    "    for index in range(len(snpData) // 6):\n",
    "        snpDataCols.append(snpData[6 * index: 6 * index + 6])\n",
    "    snpDataCols.sort(key=lambda x: x[3])\n",
    "    genoData = open(genoFile, encoding=\"ISO-8859-1\")\n",
    "    genoData = genoData.read().split()\n",
    "    indData, indDataCols = open(indFile).read().split(), []\n",
    "    for index in range(len(indData) // 3):\n",
    "        indDataCols.append(indData[3 * index: 3 * index + 3])\n",
    "    return {\"ind\": indDataCols, \"geno\": genoData, \"snp\": snpDataCols}"
   ]
  },
  {
   "cell_type": "code",
   "execution_count": 3,
   "metadata": {
    "collapsed": false
   },
   "outputs": [
    {
     "name": "stdout",
     "output_type": "stream",
     "text": [
      "['rs1564808', '8', '0.212641', '10000055', 'A', 'G']\n"
     ]
    }
   ],
   "source": [
    "\"\"\"Create CEU\"\"\"\n",
    "ceu = readData(\"../geneticData/CEU.phind\", \"../geneticData/CEU.phgeno\", \"../geneticData/CEU.phsnp\")\n",
    "ceuInd, ceuGeno, ceuSnp =  ceu[\"ind\"], ceu[\"geno\"], ceu[\"snp\"]\n",
    "print(ceuSnp[1])"
   ]
  },
  {
   "cell_type": "code",
   "execution_count": 4,
   "metadata": {
    "collapsed": false
   },
   "outputs": [
    {
     "name": "stdout",
     "output_type": "stream",
     "text": [
      "['rs3796133', '3', '1.108697', '100000533', 'C', 'T']\n"
     ]
    }
   ],
   "source": [
    "\"\"\"Create YRI\"\"\"\n",
    "yri = readData(\"../geneticData/YRI.phind\", \"../geneticData/YRI.phgeno\",  \"../geneticData/YRI.phsnp\")\n",
    "yriInd, yriGeno, yriSnp = yri[\"ind\"], yri[\"geno\"], yri[\"snp\"]"
   ]
  },
  {
   "cell_type": "code",
   "execution_count": 5,
   "metadata": {
    "collapsed": false
   },
   "outputs": [],
   "source": [
    "\"\"\"Create French Yoruba\"\"\"\n",
    "frenchYoruba = readData(\"../geneticData/French_Yoruba.ind\", \"../geneticData/French_Yoruba.ind\",  \n",
    "                        \"../geneticData/French_Yoruba.snp\")\n",
    "fyInd, fyGeno, fySnp = frenchYoruba[\"ind\"], frenchYoruba[\"geno\"], frenchYoruba[\"snp\"]"
   ]
  },
  {
   "cell_type": "code",
   "execution_count": 6,
   "metadata": {
    "collapsed": false
   },
   "outputs": [],
   "source": [
    "def mixedPopulation(genoA, genoB, alpha):\n",
    "    #Returns a mixed segment\n",
    "    allB, allA, newGeno = [x for x in range(len(genoB))], [x for x in range(len(genoA))], \"\"\n",
    "    for ind in range(len(genoA)):\n",
    "        if random.uniform(0, 1) < alpha:\n",
    "            currPop, currGeno = allA, genoA\n",
    "        else:\n",
    "            currPop, currGeno = allB, genoB   \n",
    "        chosenInd = random.choice(currPop)\n",
    "        currPop.remove(chosenInd)\n",
    "        numRef = currGeno[chosenInd]\n",
    "        newGeno += numRef       \n",
    "    return newGeno"
   ]
  },
  {
   "cell_type": "code",
   "execution_count": 7,
   "metadata": {
    "collapsed": true
   },
   "outputs": [],
   "source": [
    "def singlePopulation(geno):\n",
    "    #Return a segment for a single population\n",
    "    numInd = len(geno)\n",
    "    newGeno, allInds = \"\", [x for x in range(numInd)]\n",
    "    for ind in range(numInd):\n",
    "        chosenInd = random.choice(allInds)\n",
    "        allInds.remove(chosenInd)\n",
    "        numRef = geno[chosenInd]\n",
    "        newGeno += numRef\n",
    "    return newGeno"
   ]
  },
  {
   "cell_type": "code",
   "execution_count": 8,
   "metadata": {
    "collapsed": false
   },
   "outputs": [],
   "source": [
    "def singleAdmixture(popA, popB, alpha, numGenerations):\n",
    "    \"\"\"\n",
    "    Model for a single admixture event.\n",
    "    Takes in dictionaries as created by readData for each population A and B.\n",
    "    Alpha is the portion of population A.\n",
    "    NumGenerations is the number of generations since admixture.\n",
    "    \"\"\"\n",
    "    admixedGeno, admixedSnp = [], []\n",
    "    indA, genoA, snpA = popA[\"ind\"], popA[\"geno\"], popA[\"snp\"]\n",
    "    indB, genoB, snpB = popB[\"ind\"], popB[\"geno\"], popB[\"snp\"]\n",
    "    for currPos in range(1, len(snpA)):\n",
    "        distance = float(snpA[currPos][2]) - float(snpA[currPos - 1][2])\n",
    "        if np.random.uniform() < exp(- numGenerations * distance):\n",
    "            #Choosing from pop A or B\n",
    "            if np.random.uniform() < alpha:\n",
    "                #Choose pop A\n",
    "                newGeno = singlePopulation(genoA[currPos])\n",
    "                admixedSnp.append(snpA[currPos])\n",
    "                admixedGeno.append(newGeno)\n",
    "            else:\n",
    "                #Choose pop B\n",
    "                newGeno = singlePopulation(genoB[currPos])\n",
    "                admixedSnp.append(snpB[currPos])\n",
    "                admixedGeno.append(newGeno)\n",
    "        else:\n",
    "            #Mixed population\n",
    "            newGeno = mixedPopulation(genoA[currPos], genoB[currPos], alpha)\n",
    "            admixedSnp.append(snpA[currPos])\n",
    "            admixedGeno.append(newGeno)\n",
    "    return admixedGeno, admixedSnp"
   ]
  },
  {
   "cell_type": "code",
   "execution_count": 9,
   "metadata": {
    "collapsed": false
   },
   "outputs": [],
   "source": [
    "admixedGeno, admixedSnp = singleAdmixture(ceu, yri, 0.5, 10)"
   ]
  },
  {
   "cell_type": "code",
   "execution_count": 10,
   "metadata": {
    "collapsed": false
   },
   "outputs": [
    {
     "name": "stdout",
     "output_type": "stream",
     "text": [
      "[['rs1564808', '8', '0.212641', '10000055', 'A', 'G'], ['rs4504482', '6', '1.045887', '100000659', 'T', 'C'], ['rs837309', '13', '0.954699', '100000749', 'T', 'C']]\n",
      "['101101010110101010111110011011011100111100110101111111111111111111111101111100111001101100110101011111111111111011111111111010010110111111010100111011111110111101100111010111101110101011111000011111010111011101111111101111', '111111111100001111011111110111101011101010111011101110110001101000010001101111001001100100110111111101110101100101011010011000110011111110101111110111101111101001001001100011011110100011011010010111000110110011011101110011', '011111110111111001111111111011001111011011100111000011101000101110011111110011110011101111011110011011101111101111011101111010010111011011111001011101111100111011011111110101100101111110111111100101011111010110011110111111']\n",
      "True\n",
      "False\n",
      "False\n"
     ]
    }
   ],
   "source": [
    "# test = readData(\"../geneticData/CEU.phind\", \"newtestPop.geno\", \"newtestPop.snp\")\n",
    "# snpTest = test['snp']\n",
    "# genoTest = test['geno']\n",
    "print(admixedSnp[:3])\n",
    "print(admixedGeno[:3])\n",
    "print(admixedSnp == yriSnp[1:])\n",
    "print(admixedGeno == yriGeno[1:])\n",
    "print(admixedGeno == ceuGeno[1:])"
   ]
  },
  {
   "cell_type": "code",
   "execution_count": 11,
   "metadata": {
    "collapsed": false
   },
   "outputs": [
    {
     "name": "stdout",
     "output_type": "stream",
     "text": [
      "224 222\n"
     ]
    }
   ],
   "source": [
    "print(len(yriInd), len(ceuInd))"
   ]
  },
  {
   "cell_type": "code",
   "execution_count": null,
   "metadata": {
    "collapsed": true
   },
   "outputs": [],
   "source": []
  }
 ],
 "metadata": {
  "kernelspec": {
   "display_name": "Python 3",
   "language": "python",
   "name": "python3"
  },
  "language_info": {
   "codemirror_mode": {
    "name": "ipython",
    "version": 3
   },
   "file_extension": ".py",
   "mimetype": "text/x-python",
   "name": "python",
   "nbconvert_exporter": "python",
   "pygments_lexer": "ipython3",
   "version": "3.6.0"
  }
 },
 "nbformat": 4,
 "nbformat_minor": 2
}
